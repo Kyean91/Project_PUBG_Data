{
 "cells": [
  {
   "cell_type": "markdown",
   "id": "83be27de-f967-4882-8dfa-01a9511f7617",
   "metadata": {},
   "source": [
    "# 게임 실력 향상 방안 분석\n",
    "----------------------------"
   ]
  },
  {
   "cell_type": "markdown",
   "id": "f143cf6f-21c5-473f-adf5-5b546122c10c",
   "metadata": {},
   "source": [
    "## SQL 쿼리를 활용하여 Squad Data 불러오기\n",
    "----------"
   ]
  },
  {
   "cell_type": "markdown",
   "id": "524f1589-cc0f-48ee-a08c-21dd89927093",
   "metadata": {},
   "source": [
    "### 1. agg_match_stat Data와 kill_match_stats_final Data의 match_id와 player_name이 같은 값을 Join하고, Party_size가 4인 스쿼드 데이터만 불러오기"
   ]
  },
  {
   "cell_type": "code",
   "execution_count": 24,
   "id": "49e18643-3ea2-4d3a-8de5-237406a468e2",
   "metadata": {},
   "outputs": [
    {
     "name": "stdout",
     "output_type": "stream",
     "text": [
      "18.4.0.0.0\n"
     ]
    },
    {
     "data": {
      "text/plain": [
       "<function Connection.close>"
      ]
     },
     "execution_count": 24,
     "metadata": {},
     "output_type": "execute_result"
    }
   ],
   "source": [
    "# cx_Oracle 패키지 모듈들을 import\n",
    "import pandas as pd\n",
    "import cx_Oracle as oci\n",
    "\n",
    "# Oracle 서버와 연결(Connection 맺기)\n",
    "# 사용자이름/비밀번호@호스트이름:포트/서비스이름\n",
    "conn = oci.connect('hr/hr@121.135.1.215:1521/XEPDB1')\n",
    "\n",
    "# Connection 확인\n",
    "print(conn.version)\n",
    "query = '''\n",
    "with agg_all as\n",
    "(\n",
    "    select * from agg_match_stats_0 \n",
    "    union all\n",
    "    select * from agg_match_stats_1 \n",
    "    union all\n",
    "    select * from agg_match_stats_2\n",
    "    union all\n",
    "    select * from agg_match_stats_3\n",
    "    union all\n",
    "    select * from agg_match_stats_4\n",
    "),\n",
    "kill_all as \n",
    "(\n",
    "    select * from kill_match_stats_final_0\n",
    "    union all\n",
    "    select * from kill_match_stats_final_1\n",
    "    union all\n",
    "    select * from kill_match_stats_final_2\n",
    "    union all\n",
    "    select * from kill_match_stats_final_3\n",
    "    union all\n",
    "    select * from kill_match_stats_final_4\n",
    ")\n",
    "select a.dates\n",
    "       , a.game_size\n",
    "       , a.match_id\n",
    "       , a.match_mode\n",
    "       , a.party_size\n",
    "       , a.player_assists\n",
    "       , a.player_dbno\n",
    "       , a.player_dist_ride\n",
    "       , a.player_dist_walk\n",
    "       , a.player_dmg\n",
    "       , a.player_kills\n",
    "       , a.player_name\n",
    "       , a.player_survive_time\n",
    "       , a.team_id\n",
    "       , a.team_placement\n",
    "       , k.killed_by\n",
    "       , k.killer_placement\n",
    "       , k.killer_position_x\n",
    "       , k.killer_position_y\n",
    "       , k.map\n",
    "       , k.time\n",
    "       , k.victim_name\n",
    "       , k.victim_placement\n",
    "       , k.victim_position_x\n",
    "       , k.victim_position_y\n",
    "from agg_all a, kill_all k \n",
    "where (a.match_id = k.match_id) and (a.player_name = k.killer_name) and (a.party_size = 4)\n",
    "'''\n",
    "query = query[1:].replace('\\n', ' ').replace('    ', '')\n",
    "\n",
    "squad_df = pd.read_sql(query, con = conn)\n",
    "conn.close"
   ]
  },
  {
   "cell_type": "code",
   "execution_count": 25,
   "id": "71bb4242-fe85-4c1c-8211-c445d8789ce1",
   "metadata": {},
   "outputs": [
    {
     "data": {
      "text/html": [
       "<div>\n",
       "<style scoped>\n",
       "    .dataframe tbody tr th:only-of-type {\n",
       "        vertical-align: middle;\n",
       "    }\n",
       "\n",
       "    .dataframe tbody tr th {\n",
       "        vertical-align: top;\n",
       "    }\n",
       "\n",
       "    .dataframe thead th {\n",
       "        text-align: right;\n",
       "    }\n",
       "</style>\n",
       "<table border=\"1\" class=\"dataframe\">\n",
       "  <thead>\n",
       "    <tr style=\"text-align: right;\">\n",
       "      <th></th>\n",
       "      <th>DATES</th>\n",
       "      <th>GAME_SIZE</th>\n",
       "      <th>MATCH_ID</th>\n",
       "      <th>MATCH_MODE</th>\n",
       "      <th>PARTY_SIZE</th>\n",
       "      <th>PLAYER_ASSISTS</th>\n",
       "      <th>PLAYER_DBNO</th>\n",
       "      <th>PLAYER_DIST_RIDE</th>\n",
       "      <th>PLAYER_DIST_WALK</th>\n",
       "      <th>PLAYER_DMG</th>\n",
       "      <th>...</th>\n",
       "      <th>KILLED_BY</th>\n",
       "      <th>KILLER_PLACEMENT</th>\n",
       "      <th>KILLER_POSITION_X</th>\n",
       "      <th>KILLER_POSITION_Y</th>\n",
       "      <th>MAP</th>\n",
       "      <th>TIME</th>\n",
       "      <th>VICTIM_NAME</th>\n",
       "      <th>VICTIM_PLACEMENT</th>\n",
       "      <th>VICTIM_POSITION_X</th>\n",
       "      <th>VICTIM_POSITION_Y</th>\n",
       "    </tr>\n",
       "  </thead>\n",
       "  <tbody>\n",
       "    <tr>\n",
       "      <th>0</th>\n",
       "      <td>2017-12-11T22:02:39+0000</td>\n",
       "      <td>24</td>\n",
       "      <td>2U4GBNA0YmnmvI29GR080nJ5U4oZyrJ2kJqz7BeQrwDdx6...</td>\n",
       "      <td>tpp</td>\n",
       "      <td>4</td>\n",
       "      <td>0</td>\n",
       "      <td>1</td>\n",
       "      <td>0.00000</td>\n",
       "      <td>97.563416</td>\n",
       "      <td>122</td>\n",
       "      <td>...</td>\n",
       "      <td>Down and Out</td>\n",
       "      <td>24</td>\n",
       "      <td>425834.9</td>\n",
       "      <td>327090.6</td>\n",
       "      <td>ERANGEL</td>\n",
       "      <td>127</td>\n",
       "      <td>battle-grounds-</td>\n",
       "      <td>18.0</td>\n",
       "      <td>425840.1</td>\n",
       "      <td>325253.1</td>\n",
       "    </tr>\n",
       "    <tr>\n",
       "      <th>1</th>\n",
       "      <td>2017-12-11T22:02:39+0000</td>\n",
       "      <td>24</td>\n",
       "      <td>2U4GBNA0YmnmvI29GR080nJ5U4oZyrJ2kJqz7BeQrwDdx6...</td>\n",
       "      <td>tpp</td>\n",
       "      <td>4</td>\n",
       "      <td>0</td>\n",
       "      <td>1</td>\n",
       "      <td>0.00000</td>\n",
       "      <td>383.686646</td>\n",
       "      <td>56</td>\n",
       "      <td>...</td>\n",
       "      <td>M16A4</td>\n",
       "      <td>14</td>\n",
       "      <td>157698.2</td>\n",
       "      <td>275588.1</td>\n",
       "      <td>ERANGEL</td>\n",
       "      <td>414</td>\n",
       "      <td>Seventh_Snow</td>\n",
       "      <td>16.0</td>\n",
       "      <td>157858.5</td>\n",
       "      <td>275658.0</td>\n",
       "    </tr>\n",
       "    <tr>\n",
       "      <th>2</th>\n",
       "      <td>2017-12-11T22:02:39+0000</td>\n",
       "      <td>24</td>\n",
       "      <td>2U4GBNA0YmnmvI29GR080nJ5U4oZyrJ2kJqz7BeQrwDdx6...</td>\n",
       "      <td>tpp</td>\n",
       "      <td>4</td>\n",
       "      <td>1</td>\n",
       "      <td>1</td>\n",
       "      <td>2718.57275</td>\n",
       "      <td>2480.806640</td>\n",
       "      <td>200</td>\n",
       "      <td>...</td>\n",
       "      <td>AKM</td>\n",
       "      <td>2</td>\n",
       "      <td>158904.4</td>\n",
       "      <td>276730.2</td>\n",
       "      <td>ERANGEL</td>\n",
       "      <td>546</td>\n",
       "      <td>Sgr___c</td>\n",
       "      <td>14.0</td>\n",
       "      <td>158558.1</td>\n",
       "      <td>276415.3</td>\n",
       "    </tr>\n",
       "    <tr>\n",
       "      <th>3</th>\n",
       "      <td>2017-10-25T01:39:22+0000</td>\n",
       "      <td>27</td>\n",
       "      <td>2U4GBNA0YmmEUK5MTLyr6AfVvoPX1txbeD-jND4VXYtMmo...</td>\n",
       "      <td>tpp</td>\n",
       "      <td>4</td>\n",
       "      <td>0</td>\n",
       "      <td>1</td>\n",
       "      <td>2201.33228</td>\n",
       "      <td>4093.955570</td>\n",
       "      <td>71</td>\n",
       "      <td>...</td>\n",
       "      <td>SCAR-L</td>\n",
       "      <td>5</td>\n",
       "      <td>240125.2</td>\n",
       "      <td>455128.2</td>\n",
       "      <td>ERANGEL</td>\n",
       "      <td>1766</td>\n",
       "      <td>KUAILEDEWO</td>\n",
       "      <td>4.0</td>\n",
       "      <td>238447.0</td>\n",
       "      <td>456250.2</td>\n",
       "    </tr>\n",
       "    <tr>\n",
       "      <th>4</th>\n",
       "      <td>2017-10-25T01:39:22+0000</td>\n",
       "      <td>27</td>\n",
       "      <td>2U4GBNA0YmmEUK5MTLyr6AfVvoPX1txbeD-jND4VXYtMmo...</td>\n",
       "      <td>tpp</td>\n",
       "      <td>4</td>\n",
       "      <td>2</td>\n",
       "      <td>2</td>\n",
       "      <td>2125.46631</td>\n",
       "      <td>1152.600590</td>\n",
       "      <td>301</td>\n",
       "      <td>...</td>\n",
       "      <td>UMP9</td>\n",
       "      <td>18</td>\n",
       "      <td>133149.6</td>\n",
       "      <td>306517.6</td>\n",
       "      <td>ERANGEL</td>\n",
       "      <td>914</td>\n",
       "      <td>SteiffMeister</td>\n",
       "      <td>17.0</td>\n",
       "      <td>134235.5</td>\n",
       "      <td>302729.8</td>\n",
       "    </tr>\n",
       "  </tbody>\n",
       "</table>\n",
       "<p>5 rows × 25 columns</p>\n",
       "</div>"
      ],
      "text/plain": [
       "                      DATES  GAME_SIZE  \\\n",
       "0  2017-12-11T22:02:39+0000         24   \n",
       "1  2017-12-11T22:02:39+0000         24   \n",
       "2  2017-12-11T22:02:39+0000         24   \n",
       "3  2017-10-25T01:39:22+0000         27   \n",
       "4  2017-10-25T01:39:22+0000         27   \n",
       "\n",
       "                                            MATCH_ID MATCH_MODE  PARTY_SIZE  \\\n",
       "0  2U4GBNA0YmnmvI29GR080nJ5U4oZyrJ2kJqz7BeQrwDdx6...        tpp           4   \n",
       "1  2U4GBNA0YmnmvI29GR080nJ5U4oZyrJ2kJqz7BeQrwDdx6...        tpp           4   \n",
       "2  2U4GBNA0YmnmvI29GR080nJ5U4oZyrJ2kJqz7BeQrwDdx6...        tpp           4   \n",
       "3  2U4GBNA0YmmEUK5MTLyr6AfVvoPX1txbeD-jND4VXYtMmo...        tpp           4   \n",
       "4  2U4GBNA0YmmEUK5MTLyr6AfVvoPX1txbeD-jND4VXYtMmo...        tpp           4   \n",
       "\n",
       "   PLAYER_ASSISTS  PLAYER_DBNO  PLAYER_DIST_RIDE  PLAYER_DIST_WALK  \\\n",
       "0               0            1           0.00000         97.563416   \n",
       "1               0            1           0.00000        383.686646   \n",
       "2               1            1        2718.57275       2480.806640   \n",
       "3               0            1        2201.33228       4093.955570   \n",
       "4               2            2        2125.46631       1152.600590   \n",
       "\n",
       "   PLAYER_DMG  ...     KILLED_BY KILLER_PLACEMENT  KILLER_POSITION_X  \\\n",
       "0         122  ...  Down and Out               24           425834.9   \n",
       "1          56  ...         M16A4               14           157698.2   \n",
       "2         200  ...           AKM                2           158904.4   \n",
       "3          71  ...        SCAR-L                5           240125.2   \n",
       "4         301  ...          UMP9               18           133149.6   \n",
       "\n",
       "   KILLER_POSITION_Y      MAP  TIME      VICTIM_NAME  VICTIM_PLACEMENT  \\\n",
       "0           327090.6  ERANGEL   127  battle-grounds-              18.0   \n",
       "1           275588.1  ERANGEL   414     Seventh_Snow              16.0   \n",
       "2           276730.2  ERANGEL   546          Sgr___c              14.0   \n",
       "3           455128.2  ERANGEL  1766       KUAILEDEWO               4.0   \n",
       "4           306517.6  ERANGEL   914    SteiffMeister              17.0   \n",
       "\n",
       "   VICTIM_POSITION_X VICTIM_POSITION_Y  \n",
       "0           425840.1          325253.1  \n",
       "1           157858.5          275658.0  \n",
       "2           158558.1          276415.3  \n",
       "3           238447.0          456250.2  \n",
       "4           134235.5          302729.8  \n",
       "\n",
       "[5 rows x 25 columns]"
      ]
     },
     "execution_count": 25,
     "metadata": {},
     "output_type": "execute_result"
    }
   ],
   "source": [
    "squad_df.head()"
   ]
  },
  {
   "cell_type": "markdown",
   "id": "75a452ec-4392-4865-993a-afea10fe4c47",
   "metadata": {},
   "source": [
    "## EDA 수행\n",
    "----"
   ]
  },
  {
   "cell_type": "markdown",
   "id": "fc79f406-b3a1-484f-9751-96d5007b0801",
   "metadata": {},
   "source": [
    "### 1. "
   ]
  },
  {
   "cell_type": "code",
   "execution_count": null,
   "id": "6d954890-c8a5-4b6a-8a88-d549e40fae3a",
   "metadata": {},
   "outputs": [],
   "source": []
  },
  {
   "cell_type": "markdown",
   "id": "70c6e312-e89d-4c2f-ae55-7867dd6c4e9a",
   "metadata": {},
   "source": [
    "## 일정 비율의 데이터로 티어 구간 지정하기 or PUBG의 티어 구간 활용?\n",
    "---"
   ]
  },
  {
   "cell_type": "markdown",
   "id": "184e14be-f0b1-4ef7-b6c6-dc19e8882449",
   "metadata": {},
   "source": [
    "### 1."
   ]
  },
  {
   "cell_type": "code",
   "execution_count": null,
   "id": "122bd2d2-531f-45f4-80ec-19a9d5daf051",
   "metadata": {},
   "outputs": [],
   "source": []
  },
  {
   "cell_type": "markdown",
   "id": "8282ed9e-e20a-4c45-8288-65b4e80ade51",
   "metadata": {},
   "source": [
    "## Squad Data를 티어별로 나누어 각 티어별 특징 도출 with 파생변수\n",
    "---"
   ]
  },
  {
   "cell_type": "markdown",
   "id": "40b53c12-4020-4b2a-ac21-61c939c713ef",
   "metadata": {},
   "source": [
    "### 1."
   ]
  },
  {
   "cell_type": "code",
   "execution_count": null,
   "id": "5b4ae67e-4f5a-4664-848f-eba52f38289b",
   "metadata": {},
   "outputs": [],
   "source": []
  },
  {
   "cell_type": "markdown",
   "id": "9caaad79-9871-4ccb-a5a2-cd8429614f54",
   "metadata": {},
   "source": [
    "## 다음 티어로 나아가기위한 개선방안 제안 - 각 티어별 특징의 차이를 통해\n",
    "---"
   ]
  },
  {
   "cell_type": "markdown",
   "id": "13ff6dab-5b19-4858-8b56-500890340d51",
   "metadata": {},
   "source": [
    "### 1."
   ]
  },
  {
   "cell_type": "code",
   "execution_count": null,
   "id": "b851b65b-8206-49e7-abb1-921b06ef93f9",
   "metadata": {},
   "outputs": [],
   "source": []
  },
  {
   "cell_type": "code",
   "execution_count": null,
   "id": "0a0f03fa-35a4-40ca-b305-dbea208bc309",
   "metadata": {},
   "outputs": [],
   "source": []
  }
 ],
 "metadata": {
  "kernelspec": {
   "display_name": "Python 3 (ipykernel)",
   "language": "python",
   "name": "python3"
  },
  "language_info": {
   "codemirror_mode": {
    "name": "ipython",
    "version": 3
   },
   "file_extension": ".py",
   "mimetype": "text/x-python",
   "name": "python",
   "nbconvert_exporter": "python",
   "pygments_lexer": "ipython3",
   "version": "3.8.10"
  }
 },
 "nbformat": 4,
 "nbformat_minor": 5
}
